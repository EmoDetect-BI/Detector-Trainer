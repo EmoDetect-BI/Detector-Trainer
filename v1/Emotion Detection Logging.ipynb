{
 "cells": [
  {
   "cell_type": "code",
   "execution_count": 1,
   "id": "8f738c23",
   "metadata": {},
   "outputs": [],
   "source": [
    "import numpy as np\n",
    "import matplotlib.pyplot as plt\n",
    "import tensorflow as tf\n",
    "import cv2\n",
    "import imutils\n",
    "import time\n",
    "import uuid\n",
    "import requests\n",
    "import json"
   ]
  },
  {
   "cell_type": "code",
   "execution_count": 2,
   "id": "3e9cbd0f",
   "metadata": {},
   "outputs": [],
   "source": [
    "URL = \"http://localhost:5000\"\n",
    "ORG_NAME = \"org1\"\n",
    "USER_NAME = \"User1\"\n",
    "\n",
    "CLASS_LABELS  = ['Anger', 'Disgust', 'Fear', 'Happy', 'Neutral', 'Sadness', \"Surprise\"]\n",
    "CLASS_LABELS_EMOJIS = [\"👿\", \"🤢\" , \"😱\" , \"😊\" , \"😐 \", \"😔\" , \"😲\" ]\n",
    "\n",
    "font = cv2.FONT_HERSHEY_SIMPLEX  \n",
    "origin = (10, 10)\n",
    "fontScale = 1\n",
    "color = (255, 0, 0)\n",
    "thickness = 2"
   ]
  },
  {
   "cell_type": "code",
   "execution_count": 3,
   "id": "aeceaefb",
   "metadata": {},
   "outputs": [],
   "source": [
    "model = tf.keras.models.load_model(\"Bin/EmoDetection.h5\")\n",
    "face_cascade = cv2.CascadeClassifier('Bin/haarcascade_frontalface_default.xml')"
   ]
  },
  {
   "cell_type": "code",
   "execution_count": 4,
   "id": "7d104125",
   "metadata": {},
   "outputs": [],
   "source": [
    "def getEmotion(img) : \n",
    "    img = cv2.resize(img, (48, 48))\n",
    "    img = cv2.cvtColor(img, cv2.COLOR_BGR2GRAY)\n",
    "    img = np.stack((img,)*3, axis=-1)\n",
    "    img = tf.keras.applications.densenet.preprocess_input(img)\n",
    "    img = img/255.0\n",
    "    res = model.predict(img.reshape(1, 48, 48, 3),verbose = 0)[0]\n",
    "    id = np.argmax(res)\n",
    "    return {\n",
    "        \"class_id\" : id,\n",
    "        \"class_name\" : CLASS_LABELS[id],\n",
    "        \"class_emoji\" : CLASS_LABELS_EMOJIS[id],\n",
    "        \"dist\" : res\n",
    "    }\n",
    "\n",
    "def getEmotionFromUrl(url) : \n",
    "  return getEmotion(imutils.url_to_image(url))\n",
    "\n",
    "def createSession(session) : \n",
    "    payload = json.dumps({\n",
    "      \"org\": ORG_NAME,\n",
    "      \"name\": USER_NAME,\n",
    "      \"session\": session\n",
    "    })\n",
    "    headers = {\n",
    "      'Content-Type': 'application/json'\n",
    "    }\n",
    "    requests.request(\"POST\", URL+\"/createSession\", headers=headers, data=payload)\n",
    "\n",
    "def logData(session, data) : \n",
    "    payload = json.dumps({\n",
    "      \"session\": session,\n",
    "      \"log\": data\n",
    "    })\n",
    "    headers = {\n",
    "      'Content-Type': 'application/json'\n",
    "    }\n",
    "    requests.request(\"POST\", URL+\"/log\", headers=headers, data=payload)"
   ]
  },
  {
   "cell_type": "code",
   "execution_count": 5,
   "id": "eeee5d7f",
   "metadata": {
    "scrolled": true
   },
   "outputs": [
    {
     "name": "stdout",
     "output_type": "stream",
     "text": [
      "😔😊😐 😊😊😊👿😊😊😐 😊😊😊😊😊😐 😱😱😔😱😐 😱😱😔😱😱😱👿😐 😊😐 😊😐 😊😱😱😔😊😊😊"
     ]
    }
   ],
   "source": [
    "vid = cv2.VideoCapture(0)\n",
    "session = str(uuid.uuid4())\n",
    "createSession(session)\n",
    "session_emos = []\n",
    "\n",
    "try :\n",
    "    count = -1\n",
    "    while(True):\n",
    "        count += 1\n",
    "        ret, frame = vid.read()\n",
    "        gray = cv2.cvtColor(frame, cv2.COLOR_BGR2GRAY)\n",
    "        faces = face_cascade.detectMultiScale(gray, 1.3, 5)\n",
    "        if len(faces) > 0 : \n",
    "            x,y,w,h = faces[0]\n",
    "            frame = cv2.rectangle(frame,(x,y),(x+w,y+h),(255,0,0),2)\n",
    "            img = frame[y:y+h, x:x+w]\n",
    "            if count%10==0 : \n",
    "                data = getEmotion(img)\n",
    "                session_emos.append(data[\"class_emoji\"])\n",
    "                print(data[\"class_emoji\"], end=\"\")\n",
    "                logData(session, {\n",
    "                    \"class\" : int(data[\"class_id\"]),\n",
    "                    \"dist\" : [float(i) for i in data[\"dist\"]]\n",
    "                })\n",
    "                img =  cv2.putText(img, data[\"class_name\"], origin, font, fontScale, color, thickness, cv2.LINE_AA)\n",
    "                cv2.imshow('Face', img)\n",
    "                count = 0\n",
    "        cv2.imshow('Camera', frame)\n",
    "        if cv2.waitKey(1) & 0xFF == ord('q'):\n",
    "            break\n",
    "        time.sleep(0.1)\n",
    "        \n",
    "except Exception as e: \n",
    "    print(e)\n",
    "finally : \n",
    "    vid.release()\n",
    "    cv2.destroyAllWindows()"
   ]
  }
 ],
 "metadata": {
  "kernelspec": {
   "display_name": "Python 3 (ipykernel)",
   "language": "python",
   "name": "python3"
  },
  "language_info": {
   "codemirror_mode": {
    "name": "ipython",
    "version": 3
   },
   "file_extension": ".py",
   "mimetype": "text/x-python",
   "name": "python",
   "nbconvert_exporter": "python",
   "pygments_lexer": "ipython3",
   "version": "3.9.13"
  }
 },
 "nbformat": 4,
 "nbformat_minor": 5
}
