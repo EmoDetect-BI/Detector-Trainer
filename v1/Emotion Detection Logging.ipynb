{
 "cells": [
  {
   "cell_type": "code",
   "execution_count": 1,
   "id": "8f738c23",
   "metadata": {},
   "outputs": [],
   "source": [
    "import numpy as np\n",
    "import matplotlib.pyplot as plt\n",
    "import tensorflow as tf\n",
    "import cv2\n",
    "import imutils\n",
    "import time"
   ]
  },
  {
   "cell_type": "code",
   "execution_count": 2,
   "id": "3e9cbd0f",
   "metadata": {},
   "outputs": [],
   "source": [
    "CLASS_LABELS  = ['Anger', 'Disgust', 'Fear', 'Happy', 'Neutral', 'Sadness', \"Surprise\"]\n",
    "CLASS_LABELS_EMOJIS = [\"👿\", \"🤢\" , \"😱\" , \"😊\" , \"😐 \", \"😔\" , \"😲\" ]"
   ]
  },
  {
   "cell_type": "code",
   "execution_count": 3,
   "id": "aeceaefb",
   "metadata": {},
   "outputs": [],
   "source": [
    "model = tf.keras.models.load_model(\"Bin/EmoDetection.h5\")\n",
    "face_cascade = cv2.CascadeClassifier('Bin/haarcascade_frontalface_default.xml')"
   ]
  },
  {
   "cell_type": "code",
   "execution_count": 17,
   "id": "7d104125",
   "metadata": {},
   "outputs": [
    {
     "name": "stdout",
     "output_type": "stream",
     "text": [
      "1/1 [==============================] - 0s 84ms/step\n"
     ]
    },
    {
     "data": {
      "text/plain": [
       "{'class_id': 4,\n",
       " 'class_name': 'Neutral',\n",
       " 'class_emoji': '😐 ',\n",
       " 'dist': array([5.8334600e-02, 1.7989310e-04, 1.5415937e-01, 7.8443093e-03,\n",
       "        4.9347579e-01, 2.8063637e-01, 5.3696819e-03], dtype=float32)}"
      ]
     },
     "execution_count": 17,
     "metadata": {},
     "output_type": "execute_result"
    }
   ],
   "source": [
    "def getEmotion(img) : \n",
    "    img = cv2.resize(img, (48, 48))\n",
    "    img = cv2.cvtColor(img, cv2.COLOR_BGR2GRAY)\n",
    "    img = np.stack((img,)*3, axis=-1)\n",
    "    img = tf.keras.applications.densenet.preprocess_input(img)\n",
    "    img = img/255.0\n",
    "    res = model.predict(img.reshape(1, 48, 48, 3))[0]\n",
    "    id = np.argmax(res)\n",
    "    return {\n",
    "        \"class_id\" : id,\n",
    "        \"class_name\" : CLASS_LABELS[id],\n",
    "        \"class_emoji\" : CLASS_LABELS_EMOJIS[id],\n",
    "        \"dist\" : res\n",
    "    }\n",
    "\n",
    "def getEmotionFromUrl(url) : \n",
    "  return getEmotion(imutils.url_to_image(url))\n",
    "\n",
    "getEmotion(cv2.imread(\"Images/im105.png\"))"
   ]
  },
  {
   "cell_type": "code",
   "execution_count": 15,
   "id": "eeee5d7f",
   "metadata": {
    "scrolled": true
   },
   "outputs": [
    {
     "name": "stdout",
     "output_type": "stream",
     "text": [
      "1/1 [==============================] - 0s 80ms/step\n",
      "{'class_id': 4, 'class_name': 'Neutral', 'class_emoji': '😐 ', 'dist': array([1.8371396e-02, 6.3337907e-06, 6.1851162e-03, 1.3996365e-02,\n",
      "       9.4430429e-01, 1.4520199e-02, 2.6163855e-03], dtype=float32)}\n",
      "1/1 [==============================] - 0s 53ms/step\n",
      "{'class_id': 0, 'class_name': 'Anger', 'class_emoji': '👿', 'dist': array([0.54877645, 0.00109404, 0.17939548, 0.01348808, 0.15963964,\n",
      "       0.0509445 , 0.04666177], dtype=float32)}\n",
      "1/1 [==============================] - 0s 69ms/step\n",
      "{'class_id': 2, 'class_name': 'Fear', 'class_emoji': '😱', 'dist': array([6.7991689e-02, 2.7256733e-04, 5.1231080e-01, 1.0020679e-02,\n",
      "       2.9589745e-01, 5.9413791e-02, 5.4092962e-02], dtype=float32)}\n",
      "1/1 [==============================] - 0s 47ms/step\n",
      "{'class_id': 3, 'class_name': 'Happy', 'class_emoji': '😊', 'dist': array([1.8892117e-03, 1.5805486e-04, 3.9178110e-04, 9.9534816e-01,\n",
      "       6.6153583e-04, 9.4469503e-04, 6.0652039e-04], dtype=float32)}\n",
      "1/1 [==============================] - 0s 45ms/step\n",
      "{'class_id': 0, 'class_name': 'Anger', 'class_emoji': '👿', 'dist': array([0.81229156, 0.00390956, 0.08943439, 0.01067742, 0.03085909,\n",
      "       0.04422358, 0.00860444], dtype=float32)}\n",
      "1/1 [==============================] - 0s 55ms/step\n",
      "{'class_id': 3, 'class_name': 'Happy', 'class_emoji': '😊', 'dist': array([6.4738991e-04, 4.0355491e-05, 8.2866267e-05, 9.9855286e-01,\n",
      "       2.3992307e-04, 2.8060927e-04, 1.5594697e-04], dtype=float32)}\n",
      "1/1 [==============================] - 0s 82ms/step\n",
      "{'class_id': 3, 'class_name': 'Happy', 'class_emoji': '😊', 'dist': array([3.0193289e-03, 1.5480183e-04, 7.4692158e-04, 9.8957038e-01,\n",
      "       3.3908433e-03, 2.1405960e-03, 9.7711477e-04], dtype=float32)}\n",
      "1/1 [==============================] - 0s 37ms/step\n",
      "{'class_id': 4, 'class_name': 'Neutral', 'class_emoji': '😐 ', 'dist': array([2.5763649e-02, 1.3606147e-05, 2.1339886e-02, 4.7190660e-03,\n",
      "       8.9439654e-01, 5.1045422e-02, 2.7218047e-03], dtype=float32)}\n",
      "1/1 [==============================] - 0s 48ms/step\n",
      "{'class_id': 5, 'class_name': 'Sadness', 'class_emoji': '😔', 'dist': array([3.89068276e-02, 5.37625107e-04, 1.19715743e-01, 1.23546915e-02,\n",
      "       1.52541846e-01, 6.74094141e-01, 1.84910721e-03], dtype=float32)}\n",
      "1/1 [==============================] - 0s 59ms/step\n",
      "{'class_id': 3, 'class_name': 'Happy', 'class_emoji': '😊', 'dist': array([3.5862772e-06, 1.7313673e-07, 5.6888439e-08, 9.9999523e-01,\n",
      "       1.3586519e-07, 3.8036228e-07, 3.8792010e-07], dtype=float32)}\n",
      "1/1 [==============================] - 0s 46ms/step\n",
      "{'class_id': 3, 'class_name': 'Happy', 'class_emoji': '😊', 'dist': array([1.3039675e-06, 7.5525620e-08, 1.2958177e-08, 9.9999833e-01,\n",
      "       2.0897517e-08, 1.0798672e-07, 8.9045933e-08], dtype=float32)}\n",
      "1/1 [==============================] - 0s 60ms/step\n",
      "{'class_id': 3, 'class_name': 'Happy', 'class_emoji': '😊', 'dist': array([2.7965439e-06, 1.9302959e-07, 3.2808945e-08, 9.9999642e-01,\n",
      "       3.9638369e-08, 2.2405797e-07, 1.8286102e-07], dtype=float32)}\n",
      "1/1 [==============================] - 0s 51ms/step\n",
      "{'class_id': 4, 'class_name': 'Neutral', 'class_emoji': '😐 ', 'dist': array([1.6965117e-01, 1.6936238e-04, 1.1091382e-01, 1.1240282e-02,\n",
      "       6.1990583e-01, 6.6576056e-02, 2.1543508e-02], dtype=float32)}\n",
      "1/1 [==============================] - 0s 44ms/step\n",
      "{'class_id': 4, 'class_name': 'Neutral', 'class_emoji': '😐 ', 'dist': array([9.0634823e-02, 1.2723212e-04, 2.0173116e-01, 9.2798937e-03,\n",
      "       6.1047518e-01, 5.6553300e-02, 3.1198425e-02], dtype=float32)}\n",
      "1/1 [==============================] - 0s 41ms/step\n",
      "{'class_id': 2, 'class_name': 'Fear', 'class_emoji': '😱', 'dist': array([0.17778619, 0.00087458, 0.54819   , 0.00807345, 0.15358132,\n",
      "       0.07597675, 0.03551776], dtype=float32)}\n",
      "1/1 [==============================] - 0s 42ms/step\n",
      "{'class_id': 4, 'class_name': 'Neutral', 'class_emoji': '😐 ', 'dist': array([1.1367018e-01, 1.5853925e-04, 1.8657632e-01, 9.6004847e-03,\n",
      "       5.9627229e-01, 6.7929655e-02, 2.5792416e-02], dtype=float32)}\n",
      "1/1 [==============================] - 0s 54ms/step\n",
      "{'class_id': 2, 'class_name': 'Fear', 'class_emoji': '😱', 'dist': array([0.31680462, 0.00100242, 0.38868615, 0.00915593, 0.1716796 ,\n",
      "       0.07172166, 0.0409496 ], dtype=float32)}\n",
      "1/1 [==============================] - 0s 47ms/step\n",
      "{'class_id': 4, 'class_name': 'Neutral', 'class_emoji': '😐 ', 'dist': array([4.56144661e-02, 1.07504704e-04, 2.78250307e-01, 7.14181783e-03,\n",
      "       5.82660854e-01, 7.07784742e-02, 1.54465381e-02], dtype=float32)}\n",
      "1/1 [==============================] - 0s 69ms/step\n",
      "{'class_id': 4, 'class_name': 'Neutral', 'class_emoji': '😐 ', 'dist': array([6.5227915e-03, 2.5763777e-07, 6.3668709e-04, 3.9224615e-03,\n",
      "       9.8627037e-01, 2.1505523e-03, 4.9700192e-04], dtype=float32)}\n",
      "1/1 [==============================] - 0s 81ms/step\n",
      "{'class_id': 5, 'class_name': 'Sadness', 'class_emoji': '😔', 'dist': array([2.1176785e-02, 3.0125389e-04, 2.3634633e-02, 3.7201117e-03,\n",
      "       4.4496313e-02, 9.0651971e-01, 1.5114387e-04], dtype=float32)}\n",
      "1/1 [==============================] - 0s 49ms/step\n",
      "{'class_id': 4, 'class_name': 'Neutral', 'class_emoji': '😐 ', 'dist': array([1.8787334e-02, 2.1974322e-06, 4.2473865e-03, 2.9720953e-03,\n",
      "       9.6193278e-01, 1.0681701e-02, 1.3764248e-03], dtype=float32)}\n",
      "1/1 [==============================] - 0s 54ms/step\n",
      "{'class_id': 3, 'class_name': 'Happy', 'class_emoji': '😊', 'dist': array([1.8754081e-05, 2.0211376e-06, 2.5302836e-07, 9.9997687e-01,\n",
      "       1.3071671e-07, 1.1689273e-06, 8.1935309e-07], dtype=float32)}\n",
      "1/1 [==============================] - 0s 69ms/step\n",
      "{'class_id': 3, 'class_name': 'Happy', 'class_emoji': '😊', 'dist': array([7.1192197e-05, 2.3167793e-06, 4.4062922e-06, 9.9984896e-01,\n",
      "       3.1736712e-05, 2.1247000e-05, 2.0223742e-05], dtype=float32)}\n",
      "1/1 [==============================] - 0s 69ms/step\n",
      "{'class_id': 3, 'class_name': 'Happy', 'class_emoji': '😊', 'dist': array([2.6492809e-03, 2.2320803e-05, 3.9746833e-04, 9.6353024e-01,\n",
      "       3.0688792e-02, 1.6859298e-03, 1.0260424e-03], dtype=float32)}\n"
     ]
    }
   ],
   "source": [
    "vid = cv2.VideoCapture(0)\n",
    "\n",
    "try :\n",
    "    count = -1\n",
    "    while(True):\n",
    "        count += 1\n",
    "        ret, frame = vid.read()\n",
    "        gray = cv2.cvtColor(frame, cv2.COLOR_BGR2GRAY)\n",
    "        faces = face_cascade.detectMultiScale(gray, 1.3, 5)\n",
    "        if len(faces) > 0 : \n",
    "            x,y,w,h = faces[0]\n",
    "            frame = cv2.rectangle(frame,(x,y),(x+w,y+h),(255,0,0),2)\n",
    "            img = frame[y:y+h, x:x+w]\n",
    "            if count%10==0 : \n",
    "                emo = getEmotion(img)\n",
    "                cv2.imshow(\"face_detected\", img)\n",
    "                count = 0\n",
    "        cv2.imshow('frame', frame)\n",
    "        if cv2.waitKey(1) & 0xFF == ord('q'):\n",
    "            break\n",
    "        time.sleep(0.1)\n",
    "        \n",
    "except Exception as e: \n",
    "    print(e)\n",
    "finally : \n",
    "    vid.release()\n",
    "    cv2.destroyAllWindows()"
   ]
  }
 ],
 "metadata": {
  "kernelspec": {
   "display_name": "Python 3 (ipykernel)",
   "language": "python",
   "name": "python3"
  },
  "language_info": {
   "codemirror_mode": {
    "name": "ipython",
    "version": 3
   },
   "file_extension": ".py",
   "mimetype": "text/x-python",
   "name": "python",
   "nbconvert_exporter": "python",
   "pygments_lexer": "ipython3",
   "version": "3.9.13"
  }
 },
 "nbformat": 4,
 "nbformat_minor": 5
}
