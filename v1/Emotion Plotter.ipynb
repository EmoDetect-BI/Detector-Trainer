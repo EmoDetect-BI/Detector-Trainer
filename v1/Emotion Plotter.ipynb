{
 "cells": [
  {
   "cell_type": "code",
   "execution_count": 1,
   "id": "7e94bfbc",
   "metadata": {},
   "outputs": [],
   "source": [
    "import seaborn as sns\n",
    "import pandas as pd\n",
    "import requests\n",
    "import matplotlib.pyplot as plt"
   ]
  },
  {
   "cell_type": "code",
   "execution_count": 2,
   "id": "01b51298",
   "metadata": {},
   "outputs": [],
   "source": [
    "URL = \"http://localhost:5000\"\n",
    "\n",
    "CLASS_LABELS  = ['Anger', 'Disgust', 'Fear', 'Happy', 'Neutral', 'Sadness', \"Surprise\"]\n",
    "CLASS_LABELS_EMOJIS = [\"👿\", \"🤢\" , \"😱\" , \"😊\" , \"😐 \", \"😔\" , \"😲\" ]"
   ]
  },
  {
   "cell_type": "code",
   "execution_count": 3,
   "id": "6215d1fc",
   "metadata": {},
   "outputs": [],
   "source": [
    "response = requests.request(\"GET\", f\"{URL}/getDB\")\n",
    "data = response.json()"
   ]
  },
  {
   "cell_type": "code",
   "execution_count": 4,
   "id": "b33d9d9f",
   "metadata": {},
   "outputs": [
    {
     "data": {
      "text/plain": [
       "{'org1': ['User1', 'User3', 'User2'],\n",
       " 'org2': ['User8',\n",
       "  'User9',\n",
       "  'User5',\n",
       "  'User10',\n",
       "  'User11',\n",
       "  'User6',\n",
       "  'User4',\n",
       "  'User7']}"
      ]
     },
     "execution_count": 4,
     "metadata": {},
     "output_type": "execute_result"
    }
   ],
   "source": [
    "data[\"orgStructure\"]"
   ]
  },
  {
   "cell_type": "code",
   "execution_count": 5,
   "id": "93eb9e1b",
   "metadata": {},
   "outputs": [],
   "source": [
    "def getSessions(org, user) : \n",
    "    for i in data[\"sessions\"] : \n",
    "        if i[\"name\"]==user and i[\"org\"]==org : \n",
    "            return i[\"sess\"]\n",
    "    return None\n",
    "\n",
    "def getSessionData(session) :\n",
    "    response = requests.request(\"GET\", f\"{URL}/getLogs/{session}\")\n",
    "    try : \n",
    "        return response.json()\n",
    "    except Exception as e: \n",
    "        print(e)\n",
    "        return None\n",
    "\n",
    "def plotEmotionsBySession(session) : \n",
    "    d = getSessionData(session)\n",
    "    if not d : \n",
    "        return None\n",
    "    arr = []\n",
    "    for i in d : \n",
    "        arr.append(CLASS_LABELS[i[\"class\"]])\n",
    "    return sns.countplot(x=arr).set(title=\"Session of user\")\n",
    "\n",
    "def multiplotEmotionsByUser(sessions, m, n):\n",
    "    fig, axes = plt.subplots(m, n, figsize=(5*n, 5*m))\n",
    "    c = 0\n",
    "    l = len(sessions)\n",
    "    for ii in range(m) :\n",
    "        for ij in range(n) :\n",
    "            d = getSessionData(sessions[-c-1])\n",
    "            if not d : \n",
    "                continue\n",
    "            arr = []\n",
    "            for i in d : \n",
    "                arr.append(CLASS_LABELS[i[\"class\"]])\n",
    "            sns.countplot(x=arr, ax=axes[ii, ij]).set(title=f\"Last {c+1}th\")\n",
    "            c += 1\n",
    "            if c==l :\n",
    "                return axes\n",
    "    fig.suptitle(f\"Recent {c} sessions of user\")\n",
    "    return axes"
   ]
  },
  {
   "cell_type": "code",
   "execution_count": 6,
   "id": "a988b742",
   "metadata": {},
   "outputs": [
    {
     "data": {
      "text/plain": [
       "['ac209333-a336-498d-bc03-4c98ad942e42',\n",
       " 'e4487147-94ad-4c1c-af3a-84ac2dfd1140',\n",
       " '524d681f-58ce-430f-8402-dd6361079018',\n",
       " '86b40bfa-9a49-4ecb-a633-3b36232d7209',\n",
       " '6db0d2c6-e719-493d-994f-149d62a65dc6']"
      ]
     },
     "execution_count": 6,
     "metadata": {},
     "output_type": "execute_result"
    }
   ],
   "source": [
    "sessions = getSessions(\"org1\", \"User1\")\n",
    "sessions"
   ]
  },
  {
   "cell_type": "code",
   "execution_count": 7,
   "id": "2eb35f97",
   "metadata": {},
   "outputs": [
    {
     "data": {
      "image/png": "[encoded data removed]",
      "text/plain": [
       "<Figure size 432x288 with 1 Axes>"
      ]
     },
     "metadata": {
      "needs_background": "light"
     },
     "output_type": "display_data"
    }
   ],
   "source": [
    "_= plotEmotionsBySession(sessions[1])"
   ]
  },
  {
   "cell_type": "code",
   "execution_count": 8,
   "id": "f3d24910",
   "metadata": {},
   "outputs": [
    {
     "data": {
      "image/png": "[encoded data removed]",
      "text/plain": [
       "<Figure size 720x720 with 4 Axes>"
      ]
     },
     "metadata": {
      "needs_background": "light"
     },
     "output_type": "display_data"
    }
   ],
   "source": [
    "_= multiplotEmotionsByUser(sessions, 2, 2)"
   ]
  }
 ],
 "metadata": {
  "kernelspec": {
   "display_name": "Python 3 (ipykernel)",
   "language": "python",
   "name": "python3"
  },
  "language_info": {
   "codemirror_mode": {
    "name": "ipython",
    "version": 3
   },
   "file_extension": ".py",
   "mimetype": "text/x-python",
   "name": "python",
   "nbconvert_exporter": "python",
   "pygments_lexer": "ipython3",
   "version": "3.9.13"
  }
 },
 "nbformat": 4,
 "nbformat_minor": 5
}
